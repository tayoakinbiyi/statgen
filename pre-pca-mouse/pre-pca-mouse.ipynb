{
 "cells": [
  {
   "cell_type": "code",
   "execution_count": 8,
   "metadata": {
    "collapsed": true
   },
   "outputs": [],
   "source": [
    "import matplotlib.pyplot as plt\n",
    "\n",
    "import scipy.stats as st\n",
    "import numpy as np\n",
    "import pdb\n",
    "import pandas as pd\n",
    "from scipy.cluster.hierarchy import linkage, fcluster, dendrogram, cut_tree\n",
    "\n",
    "from os import listdir"
   ]
  },
  {
   "cell_type": "code",
   "execution_count": 2,
   "metadata": {
    "collapsed": true
   },
   "outputs": [],
   "source": [
    "import sys\n",
    "sys.setrecursionlimit(12000)"
   ]
  },
  {
   "cell_type": "code",
   "execution_count": 6,
   "metadata": {
    "collapsed": true
   },
   "outputs": [],
   "source": [
    "names=['pre_pca_pfc_mouse','pre_pca_hip_mouse','pre_pca_str_mouse']\n",
    "loc='plots/'"
   ]
  },
  {
   "cell_type": "code",
   "execution_count": null,
   "metadata": {},
   "outputs": [
    {
     "name": "stdout",
     "output_type": "stream",
     "text": [
      "average-dendrogram\n",
      "average-corr\n"
     ]
    }
   ],
   "source": [
    "for name in names:\n",
    "    raw=pd.read_csv('../../data/'+name+'.csv',sep=',').values\n",
    "    raw=raw[np.array([len(np.unique(x))>2 for x in raw])]   \n",
    "    \n",
    "    N=len(raw)\n",
    "    data=raw.T[0:N]\n",
    "\n",
    "    for method in ['average','complete','weighted']:\n",
    "        # dendrogram\n",
    "        print(method+'-dendrogram')\n",
    "        fig,axs=plt.subplots(1,1)\n",
    "        fig.set_figwidth(N/5,forward=True)\n",
    "        fig.set_figheight(5,forward=True)\n",
    "        Z=linkage(data, method, 'correlation')\n",
    "        den=dendrogram(Z, color_threshold=0,ax=axs)\n",
    "        axs.tick_params(axis='X',labelsize=20)\n",
    "        fig.savefig(loc+method+'_dendogram.png',bbox_inches='tight')\n",
    "        plt.close()\n",
    "\n",
    "        # corr plot\n",
    "        print(method+'-corr')\n",
    "        fig,axs=plt.subplots(1,1)\n",
    "        fig.set_figwidth(30,forward=True)\n",
    "        fig.set_figheight(30,forward=True)\n",
    "        axs.imshow(np.corrcoef(data[den['leaves']]),interpolation='nearest', cmap='seismic',vmin=-1,vmax=1)\n",
    "        fig.savefig(loc+method+'_corr.png',bbox_inches='tight')\n",
    "        plt.close()    \n",
    "        \n",
    "    fig,axs=plt.subplots(1,1)\n",
    "    fig.set_figwidth(7,forward=True)\n",
    "    fig.set_figheight(7,forward=True)\n",
    "    off_diag=np.corrcoef(data,rowvar=True)[np.triu_indices(N,1)].flatten()  \n",
    "    axs.hist(off_diag,bins=np.linspace(-1,1,100))\n",
    "    fig.savefig(loc+'full_off_diag.png',bbox_inches='tight')\n",
    "    plt.close()"
   ]
  },
  {
   "cell_type": "code",
   "execution_count": null,
   "metadata": {
    "collapsed": true
   },
   "outputs": [],
   "source": []
  }
 ],
 "metadata": {
  "kernelspec": {
   "display_name": "Python 3",
   "language": "python",
   "name": "python3"
  },
  "language_info": {
   "codemirror_mode": {
    "name": "ipython",
    "version": 3
   },
   "file_extension": ".py",
   "mimetype": "text/x-python",
   "name": "python",
   "nbconvert_exporter": "python",
   "pygments_lexer": "ipython3",
   "version": "3.6.2"
  }
 },
 "nbformat": 4,
 "nbformat_minor": 2
}
