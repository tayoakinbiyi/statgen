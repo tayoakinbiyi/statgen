{
 "cells": [
  {
   "cell_type": "code",
   "execution_count": 2,
   "metadata": {
    "collapsed": true
   },
   "outputs": [],
   "source": [
    "import matplotlib.pyplot as plt\n",
    "\n",
    "import scipy.stats as st\n",
    "import numpy as np\n",
    "import pdb\n",
    "import pandas as pd\n",
    "from sklearn.decomposition import PCA\n",
    "from scipy.cluster.hierarchy import linkage, fcluster, dendrogram, cut_tree\n",
    "from os import listdir\n",
    "from scipy.stats import norm, beta\n",
    "\n",
    "import statsmodels.formula.api as sm"
   ]
  },
  {
   "cell_type": "code",
   "execution_count": 3,
   "metadata": {
    "collapsed": true
   },
   "outputs": [],
   "source": [
    "names=['pre_pca_hip_mouse','pre_str_hip_mouse','pre_pfc_str_mouse']\n",
    "loc='plots/pca_removed/'\n",
    "N=100"
   ]
  },
  {
   "cell_type": "code",
   "execution_count": 4,
   "metadata": {
    "collapsed": true
   },
   "outputs": [],
   "source": [
    "import sys\n",
    "sys.setrecursionlimit(12000)"
   ]
  },
  {
   "cell_type": "code",
   "execution_count": null,
   "metadata": {},
   "outputs": [],
   "source": [
    "preds=pd.read_csv('../data/preds.csv')\n",
    "preds.set_index('id')\n",
    "preds=preds[['sex','batch']]"
   ]
  },
  {
   "cell_type": "code",
   "execution_count": null,
   "metadata": {},
   "outputs": [
    {
     "name": "stdout",
     "output_type": "stream",
     "text": [
      "pre_pca_hip_mouse 0\n",
      "average-dendrogram\n",
      "average-corr\n",
      "complete-dendrogram\n",
      "complete-corr\n",
      "weighted-dendrogram\n"
     ]
    }
   ],
   "source": [
    "for name in names:\n",
    "    raw=pd.read_csv('../data/'+name+'.csv')\n",
    "    raw.set_index('id')\n",
    "    preds_name=preds.loc[raw.index]\n",
    "    raw=raw.loc[:,raw.apply(lambda x: len(np.unique(x)),axis=0)>2]\n",
    "    ranks=raw.rank(axis=0,method='average')/(len(raw)+1)\n",
    "    raw=ranks.apply(norm.ppf,axis=0)\n",
    "        \n",
    "    XtX=preds_name.T.dot(preds_name)               \n",
    "    XtXinv=pd.DataFrame(np.linalg.pinv(XtX.values), index=preds_name.columns,columns=preds_name.columns)\n",
    "    hat=preds_name.dot(XtXinv).dot(preds_name.T).dot(raw)\n",
    "    raw=(raw-hat)\n",
    "    \n",
    "    for size in [0,5,10,25,50,75,100]:\n",
    "        print(name,size)\n",
    "        pca = PCA(n_components=100)\n",
    "        Y=pca.fit_transform(raw)\n",
    "        Y[:,0:size]=0\n",
    "        data=pca.inverse_transform(Y)                \n",
    "        \n",
    "        fig,axs=plt.subplots(1,1)\n",
    "        fig.set_figwidth(10)\n",
    "        fig.set_figheight(5)\n",
    "        axs.plot(pca.explained_variance_ratio_)\n",
    "        fig.suptitle(name)\n",
    "        fig.savefig(loc+str(size)+'_'+name+'_variance_explained.png',bbox_inches='tight')\n",
    "        \n",
    "        for method in ['average','complete','weighted']:\n",
    "            # dendrogram\n",
    "            print(method+'-dendrogram')\n",
    "            fig,axs=plt.subplots(1,1,dpi=20)\n",
    "            fig.set_figwidth(N/7,forward=True)\n",
    "            fig.set_figheight(5,forward=True)\n",
    "            Z=linkage(data.T, method, 'correlation')\n",
    "            den=dendrogram(Z, color_threshold=0,ax=axs)\n",
    "            axs.tick_params(axis='X',labelsize=20)\n",
    "            fig.suptitle(name+'_'+method)\n",
    "            fig.savefig(loc+str(size)+'_'+name+'_'+method+'_dendogram.png',bbox_inches='tight')\n",
    "            plt.close()\n",
    "\n",
    "            # corr plot\n",
    "            print(method+'-corr')\n",
    "            fig,axs=plt.subplots(1,1)\n",
    "            fig.set_figwidth(30,forward=True)\n",
    "            fig.set_figheight(30,forward=True)\n",
    "            axs.imshow(np.corrcoef(data.T[den['leaves']]),interpolation='nearest', cmap='seismic',vmin=-1,vmax=1)\n",
    "            fig.suptitle(name+'_'+method)\n",
    "            fig.savefig(loc+str(size)+'_'+name+'_'+method+'_corr.png',bbox_inches='tight')\n",
    "            plt.close()    \n",
    "\n",
    "        fig,axs=plt.subplots(1,1)\n",
    "        fig.set_figwidth(7,forward=True)\n",
    "        fig.set_figheight(7,forward=True)\n",
    "        off_diag=np.corrcoef(data,rowvar=False)[np.triu_indices(N,1)].flatten()  \n",
    "        axs.hist(off_diag,bins=np.linspace(-1,1,100))\n",
    "        fig.suptitle(name)\n",
    "        fig.savefig(loc+str(size)+'_'+name+'_full_off_diag.png',bbox_inches='tight')\n",
    "        plt.close()    \n",
    "    \n",
    "    "
   ]
  },
  {
   "cell_type": "code",
   "execution_count": null,
   "metadata": {
    "collapsed": true
   },
   "outputs": [],
   "source": []
  },
  {
   "cell_type": "code",
   "execution_count": null,
   "metadata": {
    "collapsed": true
   },
   "outputs": [],
   "source": []
  },
  {
   "cell_type": "code",
   "execution_count": null,
   "metadata": {
    "collapsed": true
   },
   "outputs": [],
   "source": []
  }
 ],
 "metadata": {
  "kernelspec": {
   "display_name": "Python 3",
   "language": "python",
   "name": "python3"
  },
  "language_info": {
   "codemirror_mode": {
    "name": "ipython",
    "version": 3
   },
   "file_extension": ".py",
   "mimetype": "text/x-python",
   "name": "python",
   "nbconvert_exporter": "python",
   "pygments_lexer": "ipython3",
   "version": "3.6.2"
  }
 },
 "nbformat": 4,
 "nbformat_minor": 2
}
