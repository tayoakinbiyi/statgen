{
 "cells": [
  {
   "cell_type": "code",
   "execution_count": 1,
   "metadata": {
    "collapsed": true
   },
   "outputs": [],
   "source": [
    "import matplotlib.pyplot as plt\n",
    "\n",
    "import scipy.stats as st\n",
    "import numpy as np\n",
    "import pdb\n",
    "import pandas as pd\n",
    "from scipy.cluster.hierarchy import linkage, fcluster, dendrogram, cut_tree"
   ]
  },
  {
   "cell_type": "code",
   "execution_count": 2,
   "metadata": {
    "collapsed": true
   },
   "outputs": [],
   "source": [
    "import sys\n",
    "sys.setrecursionlimit(12000)"
   ]
  },
  {
   "cell_type": "code",
   "execution_count": 3,
   "metadata": {
    "collapsed": true
   },
   "outputs": [],
   "source": [
    "raw=pd.read_csv('mouse.csv',sep=',').values\n",
    "raw=raw[np.array([len(np.unique(x))>2 for x in raw])]   "
   ]
  },
  {
   "cell_type": "code",
   "execution_count": 4,
   "metadata": {
    "collapsed": true
   },
   "outputs": [],
   "source": [
    "N=len(raw)\n",
    "data=raw.T[0:N]"
   ]
  },
  {
   "cell_type": "code",
   "execution_count": 23,
   "metadata": {},
   "outputs": [
    {
     "name": "stdout",
     "output_type": "stream",
     "text": [
      "single-dendrogram\n",
      "single-corr\n",
      "single-hist\n"
     ]
    },
    {
     "name": "stderr",
     "output_type": "stream",
     "text": [
      "/phddata/akinbiyi/.local/lib/python3.6/site-packages/matplotlib/figure.py:2366: UserWarning: This figure includes Axes that are not compatible with tight_layout, so results might be incorrect.\n",
      "  warnings.warn(\"This figure includes Axes that are not compatible \"\n"
     ]
    },
    {
     "name": "stdout",
     "output_type": "stream",
     "text": [
      "average-dendrogram\n",
      "average-corr\n",
      "average-hist\n",
      "complete-dendrogram\n",
      "complete-corr\n",
      "complete-hist\n",
      "weighted-dendrogram\n",
      "weighted-corr\n",
      "weighted-hist\n",
      "centroid-dendrogram\n"
     ]
    },
    {
     "ename": "ValueError",
     "evalue": "Method 'centroid' requires the distance metric to be Euclidean",
     "output_type": "error",
     "traceback": [
      "\u001b[0;31m---------------------------------------------------------------------------\u001b[0m",
      "\u001b[0;31mValueError\u001b[0m                                Traceback (most recent call last)",
      "\u001b[0;32m<ipython-input-23-06855b0a0159>\u001b[0m in \u001b[0;36m<module>\u001b[0;34m()\u001b[0m\n\u001b[1;32m      6\u001b[0m     \u001b[0mfig\u001b[0m\u001b[0;34m.\u001b[0m\u001b[0mset_figwidth\u001b[0m\u001b[0;34m(\u001b[0m\u001b[0mN\u001b[0m\u001b[0;34m/\u001b[0m\u001b[0;36m5\u001b[0m\u001b[0;34m,\u001b[0m\u001b[0mforward\u001b[0m\u001b[0;34m=\u001b[0m\u001b[0;32mTrue\u001b[0m\u001b[0;34m)\u001b[0m\u001b[0;34m\u001b[0m\u001b[0m\n\u001b[1;32m      7\u001b[0m     \u001b[0mfig\u001b[0m\u001b[0;34m.\u001b[0m\u001b[0mset_figheight\u001b[0m\u001b[0;34m(\u001b[0m\u001b[0;36m5\u001b[0m\u001b[0;34m,\u001b[0m\u001b[0mforward\u001b[0m\u001b[0;34m=\u001b[0m\u001b[0;32mTrue\u001b[0m\u001b[0;34m)\u001b[0m\u001b[0;34m\u001b[0m\u001b[0m\n\u001b[0;32m----> 8\u001b[0;31m     \u001b[0mZ\u001b[0m\u001b[0;34m=\u001b[0m\u001b[0mlinkage\u001b[0m\u001b[0;34m(\u001b[0m\u001b[0mdata\u001b[0m\u001b[0;34m,\u001b[0m \u001b[0mmethod\u001b[0m\u001b[0;34m,\u001b[0m \u001b[0;34m'correlation'\u001b[0m\u001b[0;34m)\u001b[0m\u001b[0;34m\u001b[0m\u001b[0m\n\u001b[0m\u001b[1;32m      9\u001b[0m     \u001b[0mden\u001b[0m\u001b[0;34m=\u001b[0m\u001b[0mdendrogram\u001b[0m\u001b[0;34m(\u001b[0m\u001b[0mZ\u001b[0m\u001b[0;34m,\u001b[0m \u001b[0mcolor_threshold\u001b[0m\u001b[0;34m=\u001b[0m\u001b[0;36m0\u001b[0m\u001b[0;34m,\u001b[0m\u001b[0max\u001b[0m\u001b[0;34m=\u001b[0m\u001b[0maxs\u001b[0m\u001b[0;34m)\u001b[0m\u001b[0;34m\u001b[0m\u001b[0m\n\u001b[1;32m     10\u001b[0m     \u001b[0maxs\u001b[0m\u001b[0;34m.\u001b[0m\u001b[0mtick_params\u001b[0m\u001b[0;34m(\u001b[0m\u001b[0maxis\u001b[0m\u001b[0;34m=\u001b[0m\u001b[0;34m'X'\u001b[0m\u001b[0;34m,\u001b[0m\u001b[0mlabelsize\u001b[0m\u001b[0;34m=\u001b[0m\u001b[0;36m20\u001b[0m\u001b[0;34m)\u001b[0m\u001b[0;34m\u001b[0m\u001b[0m\n",
      "\u001b[0;32m/phddata/akinbiyi/.local/lib/python3.6/site-packages/scipy/cluster/hierarchy.py\u001b[0m in \u001b[0;36mlinkage\u001b[0;34m(y, method, metric, optimal_ordering)\u001b[0m\n\u001b[1;32m   1096\u001b[0m         \u001b[0;32mif\u001b[0m \u001b[0mmethod\u001b[0m \u001b[0;32min\u001b[0m \u001b[0m_EUCLIDEAN_METHODS\u001b[0m \u001b[0;32mand\u001b[0m \u001b[0mmetric\u001b[0m \u001b[0;34m!=\u001b[0m \u001b[0;34m'euclidean'\u001b[0m\u001b[0;34m:\u001b[0m\u001b[0;34m\u001b[0m\u001b[0m\n\u001b[1;32m   1097\u001b[0m             raise ValueError(\"Method '{0}' requires the distance metric \"\n\u001b[0;32m-> 1098\u001b[0;31m                              \"to be Euclidean\".format(method))\n\u001b[0m\u001b[1;32m   1099\u001b[0m         \u001b[0;32mif\u001b[0m \u001b[0my\u001b[0m\u001b[0;34m.\u001b[0m\u001b[0mshape\u001b[0m\u001b[0;34m[\u001b[0m\u001b[0;36m0\u001b[0m\u001b[0;34m]\u001b[0m \u001b[0;34m==\u001b[0m \u001b[0my\u001b[0m\u001b[0;34m.\u001b[0m\u001b[0mshape\u001b[0m\u001b[0;34m[\u001b[0m\u001b[0;36m1\u001b[0m\u001b[0;34m]\u001b[0m \u001b[0;32mand\u001b[0m \u001b[0mnp\u001b[0m\u001b[0;34m.\u001b[0m\u001b[0mallclose\u001b[0m\u001b[0;34m(\u001b[0m\u001b[0mnp\u001b[0m\u001b[0;34m.\u001b[0m\u001b[0mdiag\u001b[0m\u001b[0;34m(\u001b[0m\u001b[0my\u001b[0m\u001b[0;34m)\u001b[0m\u001b[0;34m,\u001b[0m \u001b[0;36m0\u001b[0m\u001b[0;34m)\u001b[0m\u001b[0;34m:\u001b[0m\u001b[0;34m\u001b[0m\u001b[0m\n\u001b[1;32m   1100\u001b[0m             \u001b[0;32mif\u001b[0m \u001b[0mnp\u001b[0m\u001b[0;34m.\u001b[0m\u001b[0mall\u001b[0m\u001b[0;34m(\u001b[0m\u001b[0my\u001b[0m \u001b[0;34m>=\u001b[0m \u001b[0;36m0\u001b[0m\u001b[0;34m)\u001b[0m \u001b[0;32mand\u001b[0m \u001b[0mnp\u001b[0m\u001b[0;34m.\u001b[0m\u001b[0mallclose\u001b[0m\u001b[0;34m(\u001b[0m\u001b[0my\u001b[0m\u001b[0;34m,\u001b[0m \u001b[0my\u001b[0m\u001b[0;34m.\u001b[0m\u001b[0mT\u001b[0m\u001b[0;34m)\u001b[0m\u001b[0;34m:\u001b[0m\u001b[0;34m\u001b[0m\u001b[0m\n",
      "\u001b[0;31mValueError\u001b[0m: Method 'centroid' requires the distance metric to be Euclidean"
     ]
    }
   ],
   "source": [
    "loc='den/'\n",
    "for method in ['single','average','complete','weighted','ward'][-1:]:\n",
    "    # dendrogram\n",
    "    print(method+'-dendrogram')\n",
    "    fig,axs=plt.subplots(1,1)\n",
    "    fig.set_figwidth(N/5,forward=True)\n",
    "    fig.set_figheight(5,forward=True)\n",
    "    Z=linkage(data, method, 'correlation')\n",
    "    den=dendrogram(Z, color_threshold=0,ax=axs)\n",
    "    axs.tick_params(axis='X',labelsize=20)\n",
    "    fig.savefig(loc+method+'_dendogram.png',bbox_inches='tight')\n",
    "    plt.close()\n",
    "    \n",
    "    # corr plot\n",
    "    print(method+'-corr')\n",
    "    fig,axs=plt.subplots(1,1)\n",
    "    fig.set_figwidth(30,forward=True)\n",
    "    fig.set_figheight(30,forward=True)\n",
    "    axs.imshow(np.corrcoef(data[den['leaves']]),interpolation='nearest', cmap='seismic',vmin=-1,vmax=1)\n",
    "    fig.savefig(loc+method+'_corr.png',bbox_inches='tight')\n",
    "    plt.close()\n",
    "    \n",
    "    # counts histograms\n",
    "    print(method+'-hist')\n",
    "    heights=np.unique(np.linspace(.05,.8,15).round(2))\n",
    "    numClust=[]\n",
    "    fig, axs = plt.subplots(len(heights),2,dpi=50,tight_layout=True)   \n",
    "    fig.set_figwidth(32,forward=True)\n",
    "    fig.set_figheight(len(heights)*9,forward=True)\n",
    "    bins=range(0,len(data)+1)\n",
    "    for x in range(len(heights)):\n",
    "        height=heights[x]\n",
    "        cut=fcluster(Z,t=height,criterion='distance')\n",
    "        \n",
    "        clustOrd=np.argsort(cut)\n",
    "        dData=data[clustOrd[np.searchsorted(cut[clustOrd],range(1,max(cut)+1))]]\n",
    "        axs[x,0].imshow(np.corrcoef(dData),interpolation='nearest', cmap='seismic',vmin=-1,vmax=1)\n",
    "        axs[x,0].set_title('height '+str(height))\n",
    "\n",
    "        counts=np.unique(cut,return_counts=True)[1]\n",
    "        axs[x,1].hist(counts,bins=bins)\n",
    "        axs[x,1].set_title('height '+str(height))\n",
    "        \n",
    "    plt.close()\n",
    "    fig.savefig(loc+method+'_counts_hist.png',bbox_inches='tight')\n"
   ]
  },
  {
   "cell_type": "code",
   "execution_count": 24,
   "metadata": {
    "collapsed": true
   },
   "outputs": [],
   "source": [
    "# all off diag hist\n",
    "fig,axs=plt.subplots(1,1)\n",
    "fig.set_figwidth(7,forward=True)\n",
    "fig.set_figheight(7,forward=True)\n",
    "off_diag=np.corrcoef(data,rowvar=True)[np.triu_indices(N,1)].flatten()  \n",
    "axs.hist(off_diag,bins=np.linspace(-1,1,100))\n",
    "fig.savefig(loc+'full_off_diag.png',bbox_inches='tight')\n",
    "plt.close()"
   ]
  },
  {
   "cell_type": "code",
   "execution_count": 16,
   "metadata": {
    "collapsed": true
   },
   "outputs": [],
   "source": [
    "clusters=fcluster(linkage(data, 'single', 'correlation'),t=.05,criterion='distance')\n"
   ]
  },
  {
   "cell_type": "code",
   "execution_count": null,
   "metadata": {
    "collapsed": true
   },
   "outputs": [],
   "source": []
  }
 ],
 "metadata": {
  "kernelspec": {
   "display_name": "Python 3",
   "language": "python",
   "name": "python3"
  },
  "language_info": {
   "codemirror_mode": {
    "name": "ipython",
    "version": 3
   },
   "file_extension": ".py",
   "mimetype": "text/x-python",
   "name": "python",
   "nbconvert_exporter": "python",
   "pygments_lexer": "ipython3",
   "version": "3.6.2"
  }
 },
 "nbformat": 4,
 "nbformat_minor": 2
}
